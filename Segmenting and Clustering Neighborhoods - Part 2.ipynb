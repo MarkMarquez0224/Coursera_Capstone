{
 "cells": [
  {
   "cell_type": "markdown",
   "metadata": {},
   "source": [
    "# Download Toronto Neighboorhood Information from Wikipedia and format it accordingly"
   ]
  },
  {
   "cell_type": "markdown",
   "metadata": {},
   "source": [
    "### Installing, importing and setting necessary parameters"
   ]
  },
  {
   "cell_type": "code",
   "execution_count": 1,
   "metadata": {},
   "outputs": [
    {
     "name": "stderr",
     "output_type": "stream",
     "text": [
      "C:\\Users\\marky\\anaconda3\\lib\\site-packages\\arcgis\\features\\_data\\geodataset\\utils.py:15: FutureWarning: The pandas.datetime class is deprecated and will be removed from pandas in a future version. Import from datetime module instead.\n",
      "  pd.datetime,\n"
     ]
    }
   ],
   "source": [
    "# pip install arcgis\n",
    "from arcgis.gis import GIS\n",
    "from arcgis.geocoding import get_geocoders, batch_geocode\n",
    "\n",
    "# Import packages and set API key\n",
    "import pandas as pd\n",
    "import numpy as np"
   ]
  },
  {
   "cell_type": "markdown",
   "metadata": {},
   "source": [
    "### Import data from wikipedia and drop rows from dataframe where 'borough' is equal to 'Not assigned'"
   ]
  },
  {
   "cell_type": "code",
   "execution_count": 2,
   "metadata": {},
   "outputs": [],
   "source": [
    "url='https://en.wikipedia.org/wiki/List_of_postal_codes_of_Canada:_M'\n",
    "df_CA=pd.read_html(url,header=0)[0]\n",
    "df_CA.replace('Not assigned',np.NaN,inplace=True)\n",
    "df_CA.dropna(subset=['Borough'],inplace=True)"
   ]
  },
  {
   "cell_type": "markdown",
   "metadata": {},
   "source": [
    "### Find coordinates for postal codes and add onto current dataset"
   ]
  },
  {
   "cell_type": "code",
   "execution_count": 3,
   "metadata": {},
   "outputs": [],
   "source": [
    "postal_codes=df_CA[\"Postal code\"].tolist()"
   ]
  },
  {
   "cell_type": "code",
   "execution_count": 4,
   "metadata": {},
   "outputs": [],
   "source": [
    "# Set geocode setting for arcgis - sensitive info \n",
    "# withheld (i.e., username and password)\n",
    "gis = GIS(\"http://www.arcgis.com\", \"User_Name\", \"Pass_Word\")"
   ]
  },
  {
   "cell_type": "code",
   "execution_count": 5,
   "metadata": {},
   "outputs": [],
   "source": [
    "# use the first of GIS's configured geocoders\n",
    "geocoder=get_geocoders(gis)[0]\n",
    "CA_geo=batch_geocode(postal_codes,source_country=\"CA\")"
   ]
  },
  {
   "cell_type": "markdown",
   "metadata": {},
   "source": [
    "### Use for loop to create dataframe that stores postal codes and coordinates"
   ]
  },
  {
   "cell_type": "code",
   "execution_count": 6,
   "metadata": {},
   "outputs": [],
   "source": [
    "## For loop to collect coordinates\n",
    "Postal_code=[]\n",
    "Lat=[]\n",
    "Long=[]\n",
    "for i in range(len(CA_geo)):\n",
    "    Postal_code.append(CA_geo[i]['address'])\n",
    "    Lat.append(CA_geo[i]['location']['x'])\n",
    "    Long.append(CA_geo[i]['location']['y'])"
   ]
  },
  {
   "cell_type": "code",
   "execution_count": 7,
   "metadata": {},
   "outputs": [],
   "source": [
    "# Convert collected data into a dataframe\n",
    "df_Postal_code=pd.DataFrame(Postal_code,columns=['Postal code'])\n",
    "df_Lat=pd.DataFrame(Lat,columns=['Latitude'])\n",
    "df_Long=pd.DataFrame(Long,columns=['Longitude'])"
   ]
  },
  {
   "cell_type": "code",
   "execution_count": 8,
   "metadata": {},
   "outputs": [],
   "source": [
    "# Merge tables to include postal codes and their corrsponding coordinates\n",
    "df_CA_coords=pd.merge(df_Lat,df_Long,left_index=True,right_index=True)\n",
    "df_CA_coords_code=pd.merge(df_Postal_code,df_CA_coords,left_index=True,right_index=True)"
   ]
  },
  {
   "cell_type": "code",
   "execution_count": 9,
   "metadata": {},
   "outputs": [
    {
     "data": {
      "text/html": [
       "<div>\n",
       "<style scoped>\n",
       "    .dataframe tbody tr th:only-of-type {\n",
       "        vertical-align: middle;\n",
       "    }\n",
       "\n",
       "    .dataframe tbody tr th {\n",
       "        vertical-align: top;\n",
       "    }\n",
       "\n",
       "    .dataframe thead th {\n",
       "        text-align: right;\n",
       "    }\n",
       "</style>\n",
       "<table border=\"1\" class=\"dataframe\">\n",
       "  <thead>\n",
       "    <tr style=\"text-align: right;\">\n",
       "      <th></th>\n",
       "      <th>Postal code</th>\n",
       "      <th>Borough</th>\n",
       "      <th>Neighborhood</th>\n",
       "      <th>Latitude</th>\n",
       "      <th>Longitude</th>\n",
       "    </tr>\n",
       "  </thead>\n",
       "  <tbody>\n",
       "    <tr>\n",
       "      <th>0</th>\n",
       "      <td>M3A</td>\n",
       "      <td>North York</td>\n",
       "      <td>Parkwoods</td>\n",
       "      <td>-79.335641</td>\n",
       "      <td>43.752935</td>\n",
       "    </tr>\n",
       "    <tr>\n",
       "      <th>1</th>\n",
       "      <td>M4A</td>\n",
       "      <td>North York</td>\n",
       "      <td>Victoria Village</td>\n",
       "      <td>-79.311890</td>\n",
       "      <td>43.728102</td>\n",
       "    </tr>\n",
       "    <tr>\n",
       "      <th>2</th>\n",
       "      <td>M5A</td>\n",
       "      <td>Downtown Toronto</td>\n",
       "      <td>Regent Park / Harbourfront</td>\n",
       "      <td>-79.353041</td>\n",
       "      <td>43.650964</td>\n",
       "    </tr>\n",
       "    <tr>\n",
       "      <th>3</th>\n",
       "      <td>M6A</td>\n",
       "      <td>North York</td>\n",
       "      <td>Lawrence Manor / Lawrence Heights</td>\n",
       "      <td>-79.451211</td>\n",
       "      <td>43.723265</td>\n",
       "    </tr>\n",
       "    <tr>\n",
       "      <th>4</th>\n",
       "      <td>M7A</td>\n",
       "      <td>Downtown Toronto</td>\n",
       "      <td>Queen's Park / Ontario Provincial Government</td>\n",
       "      <td>-79.389390</td>\n",
       "      <td>43.661790</td>\n",
       "    </tr>\n",
       "    <tr>\n",
       "      <th>...</th>\n",
       "      <td>...</td>\n",
       "      <td>...</td>\n",
       "      <td>...</td>\n",
       "      <td>...</td>\n",
       "      <td>...</td>\n",
       "    </tr>\n",
       "    <tr>\n",
       "      <th>98</th>\n",
       "      <td>M8X</td>\n",
       "      <td>Etobicoke</td>\n",
       "      <td>The Kingsway / Montgomery Road / Old Mill North</td>\n",
       "      <td>-79.509766</td>\n",
       "      <td>43.653340</td>\n",
       "    </tr>\n",
       "    <tr>\n",
       "      <th>99</th>\n",
       "      <td>M4Y</td>\n",
       "      <td>Downtown Toronto</td>\n",
       "      <td>Church and Wellesley</td>\n",
       "      <td>-79.381472</td>\n",
       "      <td>43.666659</td>\n",
       "    </tr>\n",
       "    <tr>\n",
       "      <th>100</th>\n",
       "      <td>M7Y</td>\n",
       "      <td>East Toronto</td>\n",
       "      <td>Business reply mail Processing CentrE</td>\n",
       "      <td>-79.385450</td>\n",
       "      <td>43.648700</td>\n",
       "    </tr>\n",
       "    <tr>\n",
       "      <th>101</th>\n",
       "      <td>M8Y</td>\n",
       "      <td>Etobicoke</td>\n",
       "      <td>Old Mill South / King's Mill Park / Sunnylea /...</td>\n",
       "      <td>-79.493017</td>\n",
       "      <td>43.632798</td>\n",
       "    </tr>\n",
       "    <tr>\n",
       "      <th>102</th>\n",
       "      <td>M8Z</td>\n",
       "      <td>Etobicoke</td>\n",
       "      <td>Mimico NW / The Queensway West / South of Bloo...</td>\n",
       "      <td>-79.526000</td>\n",
       "      <td>43.625490</td>\n",
       "    </tr>\n",
       "  </tbody>\n",
       "</table>\n",
       "<p>103 rows × 5 columns</p>\n",
       "</div>"
      ],
      "text/plain": [
       "    Postal code           Borough  \\\n",
       "0           M3A        North York   \n",
       "1           M4A        North York   \n",
       "2           M5A  Downtown Toronto   \n",
       "3           M6A        North York   \n",
       "4           M7A  Downtown Toronto   \n",
       "..          ...               ...   \n",
       "98          M8X         Etobicoke   \n",
       "99          M4Y  Downtown Toronto   \n",
       "100         M7Y      East Toronto   \n",
       "101         M8Y         Etobicoke   \n",
       "102         M8Z         Etobicoke   \n",
       "\n",
       "                                          Neighborhood   Latitude  Longitude  \n",
       "0                                            Parkwoods -79.335641  43.752935  \n",
       "1                                     Victoria Village -79.311890  43.728102  \n",
       "2                           Regent Park / Harbourfront -79.353041  43.650964  \n",
       "3                    Lawrence Manor / Lawrence Heights -79.451211  43.723265  \n",
       "4         Queen's Park / Ontario Provincial Government -79.389390  43.661790  \n",
       "..                                                 ...        ...        ...  \n",
       "98     The Kingsway / Montgomery Road / Old Mill North -79.509766  43.653340  \n",
       "99                                Church and Wellesley -79.381472  43.666659  \n",
       "100              Business reply mail Processing CentrE -79.385450  43.648700  \n",
       "101  Old Mill South / King's Mill Park / Sunnylea /... -79.493017  43.632798  \n",
       "102  Mimico NW / The Queensway West / South of Bloo... -79.526000  43.625490  \n",
       "\n",
       "[103 rows x 5 columns]"
      ]
     },
     "execution_count": 9,
     "metadata": {},
     "output_type": "execute_result"
    }
   ],
   "source": [
    "# Merge tables to include postal codes, boroughs, neighborhoods\n",
    "# and coordinates (longitude and Latitude)\n",
    "df_CA_geo=pd.merge(df_CA,df_CA_coords_code)\n",
    "df_CA_geo"
   ]
  }
 ],
 "metadata": {
  "kernelspec": {
   "display_name": "Python 3",
   "language": "python",
   "name": "python3"
  },
  "language_info": {
   "codemirror_mode": {
    "name": "ipython",
    "version": 3
   },
   "file_extension": ".py",
   "mimetype": "text/x-python",
   "name": "python",
   "nbconvert_exporter": "python",
   "pygments_lexer": "ipython3",
   "version": "3.7.6"
  }
 },
 "nbformat": 4,
 "nbformat_minor": 4
}
